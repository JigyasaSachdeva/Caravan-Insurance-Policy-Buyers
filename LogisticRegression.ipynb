{
 "cells": [
  {
   "cell_type": "markdown",
   "metadata": {},
   "source": [
    "## Logistic Regression"
   ]
  },
  {
   "cell_type": "code",
   "execution_count": 2,
   "metadata": {},
   "outputs": [],
   "source": [
    "import pandas as pd\n",
    "#Reading train data, splitting matrix X and target Y\n",
    "train = pd.read_csv('/Users/jigyasasachdeva/Desktop/Data/train.csv', index_col = 0)\n",
    "X = train.loc[:, train.columns != 'CARAVAN']\n",
    "y = train['CARAVAN'].astype('category')"
   ]
  },
  {
   "cell_type": "code",
   "execution_count": 3,
   "metadata": {},
   "outputs": [
    {
     "data": {
      "text/plain": [
       "0    0.940227\n",
       "1    0.059773\n",
       "Name: CARAVAN, dtype: float64"
      ]
     },
     "execution_count": 3,
     "metadata": {},
     "output_type": "execute_result"
    }
   ],
   "source": [
    "#Value counts of the target variable \n",
    "train['CARAVAN'].value_counts()/train.shape[0]"
   ]
  },
  {
   "cell_type": "code",
   "execution_count": 4,
   "metadata": {},
   "outputs": [],
   "source": [
    "#Importing important libraries and splitting given train data into train and val\n",
    "from sklearn.linear_model import LogisticRegression\n",
    "from sklearn.model_selection import train_test_split, GridSearchCV, cross_val_score\n",
    "from sklearn.metrics import accuracy_score, confusion_matrix,roc_curve, roc_auc_score, precision_score, recall_score, precision_recall_curve, f1_score\n",
    "\n",
    "#70-30 split\n",
    "X_train, X_val, y_train, y_val = train_test_split(X, y, test_size=0.3, random_state=27)"
   ]
  },
  {
   "cell_type": "code",
   "execution_count": 6,
   "metadata": {},
   "outputs": [
    {
     "name": "stdout",
     "output_type": "stream",
     "text": [
      "Logistic Regression Confusion Matrix: \n",
      "[[1636    2]\n",
      " [ 108    1]]\n",
      "Logistic Regression Accuracy: 0.9370349170005724\n",
      "Logistic Regression Area Under Curve: 0.5039766553528021\n",
      "Logistic Regression Recall: 0.009174311926605505\n",
      "Logistic Regression Precision: 0.3333333333333333\n",
      "Logistic Regression F1 score: 0.01785714285714286\n"
     ]
    },
    {
     "name": "stderr",
     "output_type": "stream",
     "text": [
      "/Library/Frameworks/Python.framework/Versions/3.8/lib/python3.8/site-packages/sklearn/linear_model/_logistic.py:762: ConvergenceWarning: lbfgs failed to converge (status=1):\n",
      "STOP: TOTAL NO. of ITERATIONS REACHED LIMIT.\n",
      "\n",
      "Increase the number of iterations (max_iter) or scale the data as shown in:\n",
      "    https://scikit-learn.org/stable/modules/preprocessing.html\n",
      "Please also refer to the documentation for alternative solver options:\n",
      "    https://scikit-learn.org/stable/modules/linear_model.html#logistic-regression\n",
      "  n_iter_i = _check_optimize_result(\n"
     ]
    }
   ],
   "source": [
    "#Defining logistic regression model\n",
    "logit_model = LogisticRegression(random_state=27)\n",
    "#Fitting the model on train data \n",
    "logit_model.fit(X_train, y_train)\n",
    "#Testing the model on test data\n",
    "y_pred = logit_model.predict(X_val)\n",
    "\n",
    "#Evaluating performance of baseline\n",
    "print(f'Logistic Regression Confusion Matrix: \\n{confusion_matrix(y_val, y_pred)}')\n",
    "print(f'Logistic Regression Accuracy: {accuracy_score(y_val,y_pred)}')\n",
    "print(f'Logistic Regression Area Under Curve: {roc_auc_score(y_val, y_pred)}')\n",
    "print(f'Logistic Regression Recall: {recall_score(y_val,y_pred)}')\n",
    "print(f'Logistic Regression Precision: {precision_score(y_val,y_pred)}')\n",
    "print(f'Logistic Regression F1 score: {f1_score(y_val,y_pred)}')"
   ]
  },
  {
   "cell_type": "code",
   "execution_count": 7,
   "metadata": {},
   "outputs": [
    {
     "name": "stdout",
     "output_type": "stream",
     "text": [
      "Logistic Regression Confusion Matrix: \n",
      "[[1154  484]\n",
      " [  35   74]]\n",
      "Logistic Regression Accuracy: 0.7029192902117917\n",
      "Logistic Regression Area Under Curve: 0.6917083935432559\n",
      "Logistic Regression Recall: 0.6788990825688074\n",
      "Logistic Regression Precision: 0.13261648745519714\n",
      "Logistic Regression F1 score: 0.22188905547226387\n"
     ]
    },
    {
     "name": "stderr",
     "output_type": "stream",
     "text": [
      "/Library/Frameworks/Python.framework/Versions/3.8/lib/python3.8/site-packages/sklearn/linear_model/_logistic.py:762: ConvergenceWarning: lbfgs failed to converge (status=1):\n",
      "STOP: TOTAL NO. of ITERATIONS REACHED LIMIT.\n",
      "\n",
      "Increase the number of iterations (max_iter) or scale the data as shown in:\n",
      "    https://scikit-learn.org/stable/modules/preprocessing.html\n",
      "Please also refer to the documentation for alternative solver options:\n",
      "    https://scikit-learn.org/stable/modules/linear_model.html#logistic-regression\n",
      "  n_iter_i = _check_optimize_result(\n"
     ]
    }
   ],
   "source": [
    "#Assigning class weights based on opposite proportion of classes and re-fitting the model\n",
    "logit_2 = LogisticRegression(random_state=26 , class_weight= {0:5.97, 1:94.03})\n",
    "logit_2.fit(X_train, y_train)\n",
    "\n",
    "#Testing the model on validation data\n",
    "y_pred = logit_2.predict(X_val)\n",
    "#Evaluation metrics:\n",
    "print(f'Logistic Regression Confusion Matrix: \\n{confusion_matrix(y_val, y_pred)}')\n",
    "print(f'Logistic Regression Accuracy: {accuracy_score(y_val,y_pred)}')\n",
    "print(f'Logistic Regression Area Under Curve: {roc_auc_score(y_val, y_pred)}')\n",
    "print(f'Logistic Regression Recall: {recall_score(y_val,y_pred)}')\n",
    "print(f'Logistic Regression Precision: {precision_score(y_val,y_pred)}')\n",
    "print(f'Logistic Regression F1 score: {f1_score(y_val,y_pred)}')"
   ]
  },
  {
   "cell_type": "code",
   "execution_count": 8,
   "metadata": {},
   "outputs": [],
   "source": [
    "#For grid search CV\n",
    "#Assigning random weights\n",
    "weights = [{0:1.0,1:0.001}, {0:1.0,1:0.01}, {0:1.0,1:0.1}, {0:1.0,1:1.0}, \n",
    "     {0:1.0,1:10}, {0:1.0,1:100}, {0:1.0,1:200}, {0:1.0,1:300},\n",
    "     {0:1.0,1:400},{0:1.0,1:500}, {0:1.0,1:1000}, {0:0.01,1:1.0}, \n",
    "     {0:0.01,1:10}, {0:0.01,1:100}, {0:0.001,1:1.0}, {0:0.005,1:1.0}, \n",
    "     {0:10,1:0.1}, {0:10,1:1000}, {0:100,1:1000} ]\n",
    "hyperparam_grid = {\"class_weight\": weights }"
   ]
  },
  {
   "cell_type": "code",
   "execution_count": 13,
   "metadata": {},
   "outputs": [
    {
     "name": "stdout",
     "output_type": "stream",
     "text": [
      "Best score: 0.7521018518518519 with param: {'class_weight': {0: 1.0, 1: 10}}\n"
     ]
    },
    {
     "name": "stderr",
     "output_type": "stream",
     "text": [
      "/Library/Frameworks/Python.framework/Versions/3.8/lib/python3.8/site-packages/sklearn/linear_model/_logistic.py:762: ConvergenceWarning: lbfgs failed to converge (status=1):\n",
      "STOP: TOTAL NO. of ITERATIONS REACHED LIMIT.\n",
      "\n",
      "Increase the number of iterations (max_iter) or scale the data as shown in:\n",
      "    https://scikit-learn.org/stable/modules/preprocessing.html\n",
      "Please also refer to the documentation for alternative solver options:\n",
      "    https://scikit-learn.org/stable/modules/linear_model.html#logistic-regression\n",
      "  n_iter_i = _check_optimize_result(\n"
     ]
    }
   ],
   "source": [
    "#Trying grid search of class weight based on auc \n",
    "\n",
    "logit_3 = LogisticRegression(random_state=27)\n",
    "grid = GridSearchCV(logit_3,hyperparam_grid, scoring=\"roc_auc\", cv=100, n_jobs=-1, refit=True)\n",
    "#Fitting on the entire train data\n",
    "grid.fit(X,y)\n",
    "print(f'Best score: {grid.best_score_} with param: {grid.best_params_}')"
   ]
  },
  {
   "cell_type": "code",
   "execution_count": 14,
   "metadata": {},
   "outputs": [
    {
     "name": "stdout",
     "output_type": "stream",
     "text": [
      "Best score: 0.2269089262131057 with param: {'class_weight': {0: 100, 1: 1000}}\n"
     ]
    },
    {
     "name": "stderr",
     "output_type": "stream",
     "text": [
      "/Library/Frameworks/Python.framework/Versions/3.8/lib/python3.8/site-packages/sklearn/linear_model/_logistic.py:762: ConvergenceWarning: lbfgs failed to converge (status=1):\n",
      "STOP: TOTAL NO. of ITERATIONS REACHED LIMIT.\n",
      "\n",
      "Increase the number of iterations (max_iter) or scale the data as shown in:\n",
      "    https://scikit-learn.org/stable/modules/preprocessing.html\n",
      "Please also refer to the documentation for alternative solver options:\n",
      "    https://scikit-learn.org/stable/modules/linear_model.html#logistic-regression\n",
      "  n_iter_i = _check_optimize_result(\n"
     ]
    }
   ],
   "source": [
    "#Trying grid search of class weight based on f1 score \n",
    "\n",
    "logit_3 = LogisticRegression(random_state=13)\n",
    "grid = GridSearchCV(logit_3,hyperparam_grid, scoring=\"f1\", cv=100, n_jobs=-1, refit=True)\n",
    "#Fitting on the entire train data\n",
    "grid.fit(X,y)\n",
    "print(f'Best score: {grid.best_score_} with param: {grid.best_params_}')"
   ]
  },
  {
   "cell_type": "code",
   "execution_count": 17,
   "metadata": {},
   "outputs": [
    {
     "name": "stdout",
     "output_type": "stream",
     "text": [
      "Accuracy Score: 0.80475\n",
      "Confusion Matrix: \n",
      "[[3099  663]\n",
      " [ 118  120]]\n",
      "Area Under Curve: 0.6639828180075857\n",
      "Recall score: 0.5042016806722689\n",
      "F1 score: 0.23506366307541626\n"
     ]
    },
    {
     "name": "stderr",
     "output_type": "stream",
     "text": [
      "/Library/Frameworks/Python.framework/Versions/3.8/lib/python3.8/site-packages/sklearn/linear_model/_logistic.py:762: ConvergenceWarning: lbfgs failed to converge (status=1):\n",
      "STOP: TOTAL NO. of ITERATIONS REACHED LIMIT.\n",
      "\n",
      "Increase the number of iterations (max_iter) or scale the data as shown in:\n",
      "    https://scikit-learn.org/stable/modules/preprocessing.html\n",
      "Please also refer to the documentation for alternative solver options:\n",
      "    https://scikit-learn.org/stable/modules/linear_model.html#logistic-regression\n",
      "  n_iter_i = _check_optimize_result(\n"
     ]
    }
   ],
   "source": [
    "# Grid search CV for weights assigned to class labels on Validation data\n",
    "\n",
    "logit_4 = LogisticRegression(random_state=27, class_weight={0: 100, 1: 1000})\n",
    "# fit it\n",
    "logit_4.fit(X_train, y_train)\n",
    "# test\n",
    "y_pred = logit_4.predict(X_val)\n",
    "# performance\n",
    "print(f'Accuracy Score: {accuracy_score(y_val,y_pred)}')\n",
    "print(f'Confusion Matrix: \\n{confusion_matrix(y_val, y_pred)}')\n",
    "print(f'Area Under Curve: {roc_auc_score(y_val, y_pred)}')\n",
    "print(f'Recall score: {recall_score(y_val,y_pred)}')\n",
    "print(f'F1 score: {metrics.f1_score(y_val,y_pred)}')"
   ]
  },
  {
   "cell_type": "code",
   "execution_count": 18,
   "metadata": {},
   "outputs": [],
   "source": [
    "# define hyperparameters\n",
    "weights = [{0:1.0,1:0.001}, {0:1.0,1:0.01}, {0:1.0,1:0.1}, {0:1.0,1:1.0}, \n",
    "           {0:1.0,1:10}, {0:1.0,1:100}, {0:1.0,1:200}, {0:1.0,1:300},\n",
    "           {0:1.0,1:400},{0:1.0,1:500}, {0:1.0,1:1000}, {0:0.01,1:1.0}, \n",
    "           {0:0.01,1:10}, {0:0.01,1:100}, {0:0.001,1:1.0}, {0:0.005,1:1.0}, \n",
    "           {0:10,1:0.1}, {0:10,1:1000}, {0:100,1:1000} ]\n",
    "c = np.arange(0.5, 20.0, 0.5)\n",
    "hyperparameter_grid = {\"class_weight\": weights,\n",
    "                       \"penalty\": [\"l1\", \"l2\"], #Lasso or Ridge\n",
    "                       \"C\": crange,\n",
    "                       \"fit_intercept\": [True, False]  }"
   ]
  },
  {
   "cell_type": "code",
   "execution_count": 20,
   "metadata": {},
   "outputs": [
    {
     "name": "stdout",
     "output_type": "stream",
     "text": [
      "Best score: 0.23155389923114378 with param: {'C': 1.5, 'class_weight': {0: 1.0, 1: 10}, 'fit_intercept': True, 'penalty': 'l2'}\n"
     ]
    },
    {
     "name": "stderr",
     "output_type": "stream",
     "text": [
      "/Library/Frameworks/Python.framework/Versions/3.8/lib/python3.8/site-packages/sklearn/linear_model/_logistic.py:762: ConvergenceWarning: lbfgs failed to converge (status=1):\n",
      "STOP: TOTAL NO. of ITERATIONS REACHED LIMIT.\n",
      "\n",
      "Increase the number of iterations (max_iter) or scale the data as shown in:\n",
      "    https://scikit-learn.org/stable/modules/preprocessing.html\n",
      "Please also refer to the documentation for alternative solver options:\n",
      "    https://scikit-learn.org/stable/modules/linear_model.html#logistic-regression\n",
      "  n_iter_i = _check_optimize_result(\n"
     ]
    }
   ],
   "source": [
    "# logistic model classifier\n",
    "logit_5 = LogisticRegression(random_state=27)\n",
    "# define evaluation procedure\n",
    "grid = GridSearchCV(logit_5, hyperparameter_grid, scoring=\"f1\", cv=100, n_jobs=-1, refit=True)\n",
    "grid.fit(X,y)\n",
    "print(f'Best F1 score: {grid.best_score_} with parameters: {grid.best_params_}')"
   ]
  },
  {
   "cell_type": "code",
   "execution_count": 22,
   "metadata": {},
   "outputs": [
    {
     "name": "stdout",
     "output_type": "stream",
     "text": [
      "Accuracy Score: 0.808\n",
      "Confusion Matrix: \n",
      "[[3114  648]\n",
      " [ 120  118]]\n",
      "Area Under Curve: 0.66177475774999\n",
      "Recall score: 0.4957983193277311\n",
      "F1 score: 0.23505976095617528\n",
      "Precision score: 0.15404699738903394\n"
     ]
    },
    {
     "name": "stderr",
     "output_type": "stream",
     "text": [
      "/Library/Frameworks/Python.framework/Versions/3.8/lib/python3.8/site-packages/sklearn/linear_model/_logistic.py:762: ConvergenceWarning: lbfgs failed to converge (status=1):\n",
      "STOP: TOTAL NO. of ITERATIONS REACHED LIMIT.\n",
      "\n",
      "Increase the number of iterations (max_iter) or scale the data as shown in:\n",
      "    https://scikit-learn.org/stable/modules/preprocessing.html\n",
      "Please also refer to the documentation for alternative solver options:\n",
      "    https://scikit-learn.org/stable/modules/linear_model.html#logistic-regression\n",
      "  n_iter_i = _check_optimize_result(\n"
     ]
    }
   ],
   "source": [
    "#Final model with best parameters\n",
    "logit_6 = LogisticRegression(random_state=37,\n",
    "                         C=1.5,\n",
    "                         fit_intercept=True, \n",
    "                         penalty='l2',\n",
    "                         class_weight={0: 1.0, 1: 10} )\n",
    "logit_6.fit(X,y)\n",
    "\n",
    "#Reading test data\n",
    "test = pd.read_csv('/Users/jigyasasachdeva/Desktop/Data/test.csv', index_col = 0)\n",
    "X_test = test.loc[:, test.columns != 'CARAVAN']\n",
    "y_test = test['CARAVAN'].astype('category')\n",
    "\n",
    "#predicting on test data\n",
    "y_pred = logit_6.predict(X_test)\n",
    "# performance\n",
    "print(f'Accuracy Score: {accuracy_score(y_test,y_pred)}')\n",
    "print(f'Confusion Matrix: \\n{confusion_matrix(y_test, y_pred)}')\n",
    "print(f'Area Under Curve: {roc_auc_score(y_test, y_pred)}') \n",
    "print(f'Recall score: {recall_score(y_test,y_pred)}')\n",
    "print(f'F1 score: {metrics.f1_score(y_test,y_pred)}')\n",
    "print(f'Precision score: {precision_score(y_test,y_pred)}')"
   ]
  },
  {
   "cell_type": "code",
   "execution_count": 23,
   "metadata": {},
   "outputs": [
    {
     "name": "stdout",
     "output_type": "stream",
     "text": [
      "Best score: 0.7537089872425629 with param: {'C': 4.0, 'class_weight': {0: 1.0, 1: 1.0}, 'fit_intercept': True, 'penalty': 'l2'}\n"
     ]
    },
    {
     "name": "stderr",
     "output_type": "stream",
     "text": [
      "/Library/Frameworks/Python.framework/Versions/3.8/lib/python3.8/site-packages/sklearn/linear_model/_logistic.py:762: ConvergenceWarning: lbfgs failed to converge (status=1):\n",
      "STOP: TOTAL NO. of ITERATIONS REACHED LIMIT.\n",
      "\n",
      "Increase the number of iterations (max_iter) or scale the data as shown in:\n",
      "    https://scikit-learn.org/stable/modules/preprocessing.html\n",
      "Please also refer to the documentation for alternative solver options:\n",
      "    https://scikit-learn.org/stable/modules/linear_model.html#logistic-regression\n",
      "  n_iter_i = _check_optimize_result(\n"
     ]
    }
   ],
   "source": [
    "## Repeating procedure on SMOTE data\n",
    "smote_data = pd.read_csv('/Users/jigyasasachdeva/Desktop/Data/SMOTE_traindata.csv', index_col = 0)\n",
    "X_smote = smote_data.loc[:, smote_data.columns != 'CARAVAN']\n",
    "y_smote = smote_data['CARAVAN'].astype('category')\n",
    "\n",
    "# logistic model classifier\n",
    "logit_7 = LogisticRegression(random_state=13)\n",
    "# define evaluation procedure\n",
    "grid = GridSearchCV(logit_7, hyperparam_grid, scoring=\"f1\", cv=10, n_jobs=-1, refit=True)\n",
    "grid.fit(X_smote,y_smote)\n",
    "print(f'Best F1 score: {grid.best_score_} with parameters: {grid.best_params_}')"
   ]
  },
  {
   "cell_type": "code",
   "execution_count": 24,
   "metadata": {},
   "outputs": [
    {
     "name": "stdout",
     "output_type": "stream",
     "text": [
      "Accuracy Score: 0.54475\n",
      "Confusion Matrix: \n",
      "[[2014 1748]\n",
      " [  73  165]]\n",
      "Area Under Curve: 0.6143154231389525\n",
      "Recall score: 0.6932773109243697\n",
      "F1 score: 0.15341701534170155\n",
      "Precision score: 0.08625196027182436\n"
     ]
    },
    {
     "name": "stderr",
     "output_type": "stream",
     "text": [
      "/Library/Frameworks/Python.framework/Versions/3.8/lib/python3.8/site-packages/sklearn/linear_model/_logistic.py:762: ConvergenceWarning: lbfgs failed to converge (status=1):\n",
      "STOP: TOTAL NO. of ITERATIONS REACHED LIMIT.\n",
      "\n",
      "Increase the number of iterations (max_iter) or scale the data as shown in:\n",
      "    https://scikit-learn.org/stable/modules/preprocessing.html\n",
      "Please also refer to the documentation for alternative solver options:\n",
      "    https://scikit-learn.org/stable/modules/linear_model.html#logistic-regression\n",
      "  n_iter_i = _check_optimize_result(\n"
     ]
    }
   ],
   "source": [
    "#Re-evaluating SMOTE model on the train data to evaluate better fit between logit_6 and logit_8\n",
    "logit_8 = LogisticRegression(random_state=37,\n",
    "                         C=4.0,\n",
    "                         fit_intercept=True, \n",
    "                         penalty='l2',\n",
    "                         class_weight={0: 1.0, 1: 10} )\n",
    "logit_8.fit(X_smote,y_smote)\n",
    "#Testing on train data\n",
    "y_pred = lg4.predict(X)\n",
    "# performance\n",
    "print(f'Accuracy Score: {accuracy_score(y,y_pred)}')\n",
    "print(f'Confusion Matrix: \\n{confusion_matrix(y, y_pred)}')\n",
    "print(f'Area Under Curve: {roc_auc_score(y, y_pred)}') \n",
    "print(f'Recall score: {recall_score(y,y_pred)}')\n",
    "print(f'F1 score: {metrics.f1_score(y,y_pred)}')\n",
    "print(f'Precision score: {precision_score(y,y_pred)}')"
   ]
  },
  {
   "cell_type": "code",
   "execution_count": 9,
   "metadata": {},
   "outputs": [],
   "source": [
    "## This proves that logit 6 is much more better than logit 8 and hence, we are using normal data with \n",
    "## tuned hyper parameters"
   ]
  }
 ],
 "metadata": {
  "kernelspec": {
   "display_name": "Python 3",
   "language": "python",
   "name": "python3"
  },
  "language_info": {
   "codemirror_mode": {
    "name": "ipython",
    "version": 3
   },
   "file_extension": ".py",
   "mimetype": "text/x-python",
   "name": "python",
   "nbconvert_exporter": "python",
   "pygments_lexer": "ipython3",
   "version": "3.8.2"
  }
 },
 "nbformat": 4,
 "nbformat_minor": 4
}

