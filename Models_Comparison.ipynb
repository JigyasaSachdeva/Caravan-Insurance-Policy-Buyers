{
 "cells": [
  {
   "cell_type": "code",
   "execution_count": 2,
   "metadata": {},
   "outputs": [],
   "source": [
    "#Read data\n",
    "import pandas as pd\n",
    "\n",
    "#Train data\n",
    "train = pd.read_csv('/Users/jigyasasachdeva/Desktop/Data/train.csv', index_col = 0)\n",
    "X = train.loc[:, train.columns != 'CARAVAN']\n",
    "y = train['CARAVAN'].astype('category')\n",
    "\n",
    "#Test data\n",
    "test = pd.read_csv('/Users/jigyasasachdeva/Desktop/Data/test.csv', index_col = 0)\n",
    "X_test = test.loc[:, test.columns != 'CARAVAN']\n",
    "y_test = test['CARAVAN'].astype('category')\n",
    "\n",
    "#SMOTE train data\n",
    "smote_data = pd.read_csv('/Users/jigyasasachdeva/Desktop/Data/SMOTE_traindata.csv', index_col = 0)\n",
    "X1 = smote_data.loc[:, smote_data.columns != 'CARAVAN']\n",
    "y1 = smote_data['CARAVAN'].astype('category')"
   ]
  },
  {
   "cell_type": "code",
   "execution_count": 3,
   "metadata": {},
   "outputs": [
    {
     "name": "stdout",
     "output_type": "stream",
     "text": [
      "Confusion Matrix: \n",
      "[[3759    3]\n",
      " [ 235    3]]\n",
      "Accuracy Score: 0.9405\n",
      "Area Under Curve: 0.5059037969254687\n",
      "Recall score: 0.012605042016806723\n",
      "Precision score: 0.5\n",
      "F1 score: 0.024590163934426233\n"
     ]
    },
    {
     "name": "stderr",
     "output_type": "stream",
     "text": [
      "/Library/Frameworks/Python.framework/Versions/3.8/lib/python3.8/site-packages/sklearn/linear_model/_logistic.py:762: ConvergenceWarning: lbfgs failed to converge (status=1):\n",
      "STOP: TOTAL NO. of ITERATIONS REACHED LIMIT.\n",
      "\n",
      "Increase the number of iterations (max_iter) or scale the data as shown in:\n",
      "    https://scikit-learn.org/stable/modules/preprocessing.html\n",
      "Please also refer to the documentation for alternative solver options:\n",
      "    https://scikit-learn.org/stable/modules/linear_model.html#logistic-regression\n",
      "  n_iter_i = _check_optimize_result(\n"
     ]
    },
    {
     "data": {
      "text/plain": [
       "(0.9405, 0.5059037969254687, 0.012605042016806723, 0.5, 0.024590163934426233)"
      ]
     },
     "execution_count": 3,
     "metadata": {},
     "output_type": "execute_result"
    }
   ],
   "source": [
    "#Baseline Model\n",
    "\n",
    "from sklearn.linear_model import LogisticRegression\n",
    "from sklearn.model_selection import train_test_split, GridSearchCV, cross_val_score, RepeatedStratifiedKFold, StratifiedKFold\n",
    "from sklearn.metrics import accuracy_score, confusion_matrix,roc_curve, roc_auc_score, precision_score, recall_score, precision_recall_curve\n",
    "from sklearn.metrics import f1_score\n",
    "\n",
    "#Fitting base logistic\n",
    "base = LogisticRegression(random_state=88)\n",
    "base.fit(X,y)\n",
    "#predicting on test data\n",
    "y_pred = base.predict(X_test)\n",
    "\n",
    "# performance\n",
    "print(f'Confusion Matrix: \\n{confusion_matrix(y_test, y_pred)}')\n",
    "print(f'Accuracy Score: {accuracy_score(y_test,y_pred)}')\n",
    "print(f'Area Under Curve: {roc_auc_score(y_test, y_pred)}') \n",
    "print(f'Recall score: {recall_score(y_test,y_pred)}')\n",
    "print(f'Precision score: {precision_score(y_test,y_pred)}')\n",
    "print(f'F1 score: {f1_score(y_test,y_pred)}')\n",
    "Acc_base = accuracy_score(y_test,y_pred)\n",
    "ROC_AUC_base = roc_auc_score(y_test, y_pred)\n",
    "Recall_base = recall_score(y_test,y_pred)\n",
    "Precision_base = precision_score(y_test,y_pred)\n",
    "F1_base = f1_score(y_test,y_pred)\n",
    "Acc_base, ROC_AUC_base, Recall_base, Precision_base, F1_base"
   ]
  },
  {
   "cell_type": "code",
   "execution_count": 4,
   "metadata": {},
   "outputs": [],
   "source": [
    "from sklearn.metrics import auc\n",
    "base_p = base.predict_proba(X_test)\n",
    "base_p = base_p[:, 1]\n",
    "y_pred = base.predict(X_test)\n",
    "#Precision recall curve\n",
    "base_precision, base_recall, _ = precision_recall_curve(y_test, base_p)\n",
    "base_f1, base_auc = f1_score(y_test, y_pred), auc(base_recall, base_precision)"
   ]
  },
  {
   "cell_type": "code",
   "execution_count": 5,
   "metadata": {},
   "outputs": [
    {
     "name": "stdout",
     "output_type": "stream",
     "text": [
      "Confusion Matrix: \n",
      "[[3114  648]\n",
      " [ 120  118]]\n",
      "Accuracy Score: 0.808\n",
      "Area Under Curve: 0.66177475774999\n",
      "Recall score: 0.4957983193277311\n",
      "Precision score: 0.15404699738903394\n",
      "F1 score: 0.23505976095617528\n"
     ]
    },
    {
     "name": "stderr",
     "output_type": "stream",
     "text": [
      "/Library/Frameworks/Python.framework/Versions/3.8/lib/python3.8/site-packages/sklearn/linear_model/_logistic.py:762: ConvergenceWarning: lbfgs failed to converge (status=1):\n",
      "STOP: TOTAL NO. of ITERATIONS REACHED LIMIT.\n",
      "\n",
      "Increase the number of iterations (max_iter) or scale the data as shown in:\n",
      "    https://scikit-learn.org/stable/modules/preprocessing.html\n",
      "Please also refer to the documentation for alternative solver options:\n",
      "    https://scikit-learn.org/stable/modules/linear_model.html#logistic-regression\n",
      "  n_iter_i = _check_optimize_result(\n"
     ]
    }
   ],
   "source": [
    "#Final Logistic Regression\n",
    "\n",
    "logit_6 = LogisticRegression(random_state=77,\n",
    "                         class_weight={0: 1.0, 1: 10},\n",
    "                         penalty='l2',\n",
    "                         fit_intercept=True,\n",
    "                         C=1.5)\n",
    "# fit it\n",
    "logit_6.fit(X,y)\n",
    "# test\n",
    "y_pred = logit_6.predict(X_test)\n",
    "\n",
    "# performance\n",
    "print(f'Confusion Matrix: \\n{confusion_matrix(y_test, y_pred)}')\n",
    "print(f'Accuracy Score: {accuracy_score(y_test,y_pred)}')\n",
    "print(f'Area Under Curve: {roc_auc_score(y_test, y_pred)}') \n",
    "print(f'Recall score: {recall_score(y_test,y_pred)}')\n",
    "print(f'Precision score: {precision_score(y_test,y_pred)}')\n",
    "print(f'F1 score: {f1_score(y_test,y_pred)}')\n",
    "Acc_lr = accuracy_score(y_test,y_pred)\n",
    "ROC_AUC_lr = roc_auc_score(y_test, y_pred)\n",
    "Recall_lr = recall_score(y_test,y_pred)\n",
    "Precision_lr = precision_score(y_test,y_pred)\n",
    "F1_lr = f1_score(y_test,y_pred)"
   ]
  },
  {
   "cell_type": "code",
   "execution_count": 6,
   "metadata": {},
   "outputs": [],
   "source": [
    "lr_p = logit_6.predict_proba(X_test)\n",
    "lr_p = lr_p[:, 1]\n",
    "y_pred = logit_6.predict(X_test)\n",
    "lr_precision, lr_recall, _ = precision_recall_curve(y_test, lr_p)\n",
    "lr_f1, lr_auc = f1_score(y_test, y_pred), auc(lr_recall, lr_precision)"
   ]
  },
  {
   "cell_type": "code",
   "execution_count": 7,
   "metadata": {},
   "outputs": [
    {
     "name": "stdout",
     "output_type": "stream",
     "text": [
      "Confusion Matrix: \n",
      "[[3700   62]\n",
      " [ 220   18]]\n",
      "Accuracy Score: 0.9295\n",
      "Area Under Curve: 0.5295748283364382\n",
      "Recall score: 0.07563025210084033\n",
      "Precision score: 0.225\n",
      "F1 score: 0.11320754716981131\n"
     ]
    }
   ],
   "source": [
    "#Final Random Forest\n",
    "from sklearn import metrics\n",
    "from sklearn.ensemble import RandomForestClassifier\n",
    "\n",
    "rf_model = RandomForestClassifier(n_estimators= 10, \n",
    "                               min_samples_split= 2, \n",
    "                               min_samples_leaf= 1, \n",
    "                               max_features= 81, \n",
    "                               max_depth= 36, \n",
    "                               bootstrap= True)\n",
    "rf_model.fit(X, y)\n",
    "y_pred = rf_model.predict(X_test)\n",
    "\n",
    "print(f'Confusion Matrix: \\n{confusion_matrix(y_test, y_pred)}')\n",
    "print(f'Accuracy Score: {accuracy_score(y_test,y_pred)}')\n",
    "print(f'Area Under Curve: {roc_auc_score(y_test, y_pred)}') \n",
    "print(f'Recall score: {recall_score(y_test,y_pred)}')\n",
    "print(f'Precision score: {precision_score(y_test,y_pred)}')\n",
    "print(f'F1 score: {metrics.f1_score(y_test,y_pred)}')\n",
    "Acc_rf = accuracy_score(y_test,y_pred)\n",
    "ROC_AUC_rf = roc_auc_score(y_test, y_pred)\n",
    "Recall_rf = recall_score(y_test,y_pred)\n",
    "Precision_rf = precision_score(y_test,y_pred)\n",
    "F1_rf = f1_score(y_test,y_pred)"
   ]
  },
  {
   "cell_type": "code",
   "execution_count": 8,
   "metadata": {},
   "outputs": [],
   "source": [
    "rf_p = rf_model.predict_proba(X_test)\n",
    "rf_p = rf_p[:, 1]\n",
    "y_pred = rf_model.predict(X_test)\n",
    "rf_precision, rf_recall, _ = precision_recall_curve(y_test, rf_p)\n",
    "rf_f1, rf_auc = f1_score(y_test, y_pred), auc(rf_recall, rf_precision)"
   ]
  },
  {
   "cell_type": "code",
   "execution_count": 9,
   "metadata": {},
   "outputs": [
    {
     "name": "stdout",
     "output_type": "stream",
     "text": [
      "Confusion Matrix: \n",
      "[[2380 1382]\n",
      " [  77  161]]\n",
      "Accuracy Score: 0.63525\n",
      "Area Under Curve: 0.6545563999124371\n",
      "Recall score: 0.6764705882352942\n",
      "Precision score: 0.10434219053791316\n",
      "F1 score: 0.18079730488489612\n"
     ]
    }
   ],
   "source": [
    "#SVM (r)\n",
    "from sklearn.svm import SVC\n",
    "svc_bestfit = SVC(random_state=13,\n",
    "                  C=0.125,\n",
    "                  kernel = 'linear',\n",
    "                  probability = True, \n",
    "                  class_weight={0: 1.05, 1: 20})\n",
    "svc_bestfit.fit(X,y)\n",
    "y_pred = svc_bestfit.predict(X_test)\n",
    "\n",
    "# performance\n",
    "print(f'Confusion Matrix: \\n{confusion_matrix(y_test, y_pred)}')\n",
    "print(f'Accuracy Score: {accuracy_score(y_test,y_pred)}')\n",
    "print(f'Area Under Curve: {roc_auc_score(y_test, y_pred)}') \n",
    "print(f'Recall score: {recall_score(y_test,y_pred)}')\n",
    "print(f'Precision score: {precision_score(y_test,y_pred)}')\n",
    "print(f'F1 score: {metrics.f1_score(y_test,y_pred)}')\n",
    "Acc_svm = accuracy_score(y_test,y_pred)\n",
    "ROC_AUC_svm = roc_auc_score(y_test, y_pred)\n",
    "Recall_svm = recall_score(y_test,y_pred)\n",
    "Precision_svm = precision_score(y_test,y_pred)\n",
    "F1_svm = f1_score(y_test,y_pred)"
   ]
  },
  {
   "cell_type": "code",
   "execution_count": 10,
   "metadata": {},
   "outputs": [],
   "source": [
    "svm_p = svc_bestfit.predict_proba(X_test)\n",
    "svm_p = svm_p[:, 1]\n",
    "y_pred = svc_bestfit.predict(X_test)\n",
    "svm_precision, svm_recall, _ = precision_recall_curve(y_test, svm_p)\n",
    "svm_f1, svm_auc = f1_score(y_test, y_pred), auc(svm_recall, svm_precision)"
   ]
  },
  {
   "cell_type": "code",
   "execution_count": 11,
   "metadata": {},
   "outputs": [
    {
     "name": "stdout",
     "output_type": "stream",
     "text": [
      "Confusion Matrix: \n",
      "[[3385  377]\n",
      " [ 186   52]]\n",
      "Accuracy Score: 0.85925\n",
      "Area Under Curve: 0.5591373710568758\n",
      "Recall score: 0.2184873949579832\n",
      "Precision score: 0.12121212121212122\n",
      "F1 score: 0.15592203898050977\n"
     ]
    }
   ],
   "source": [
    "#KNN (on SMOTE)\n",
    "from sklearn.neighbors import KNeighborsClassifier\n",
    "knn = KNeighborsClassifier(n_neighbors=1)\n",
    "knn.fit(X1, y1)\n",
    "y_pred = knn.predict(X_test)\n",
    "\n",
    "# performance\n",
    "print(f'Confusion Matrix: \\n{confusion_matrix(y_test, y_pred)}')\n",
    "print(f'Accuracy Score: {accuracy_score(y_test,y_pred)}')\n",
    "print(f'Area Under Curve: {roc_auc_score(y_test, y_pred)}') \n",
    "print(f'Recall score: {recall_score(y_test,y_pred)}')\n",
    "print(f'Precision score: {precision_score(y_test,y_pred)}')\n",
    "print(f'F1 score: {metrics.f1_score(y_test,y_pred)}')\n",
    "Acc_knn = accuracy_score(y_test,y_pred)\n",
    "ROC_AUC_knn = roc_auc_score(y_test, y_pred)\n",
    "Recall_knn = recall_score(y_test,y_pred)\n",
    "Precision_knn = precision_score(y_test,y_pred)\n",
    "F1_knn = f1_score(y_test,y_pred)"
   ]
  },
  {
   "cell_type": "code",
   "execution_count": 14,
   "metadata": {},
   "outputs": [],
   "source": [
    "knn_p = knn.predict_proba(X_test)\n",
    "knn_p = knn_p[:, 1]\n",
    "y_pred = knn.predict(X_test)\n",
    "knn_precision, knn_recall, _ = precision_recall_curve(y_test, knn_p)\n",
    "knn_f1, knn_auc = f1_score(y_test, y_pred), auc(knn_recall, knn_precision)"
   ]
  },
  {
   "cell_type": "code",
   "execution_count": 15,
   "metadata": {},
   "outputs": [
    {
     "data": {
      "image/png": "[encoded data removed]",
      "text/plain": [
       "<Figure size 432x288 with 1 Axes>"
      ]
     },
     "metadata": {
      "needs_background": "light"
     },
     "output_type": "display_data"
    }
   ],
   "source": [
    "#Plot\n",
    "from matplotlib import pyplot\n",
    "no_skill = len(y_test[y_test==1]) / len(y_test)\n",
    "pyplot.plot([0, 1], [no_skill, no_skill], linestyle='--', label='No Skill')\n",
    "\n",
    "pyplot.plot(base_recall, base_precision, marker='.', label='Baseline')\n",
    "pyplot.plot(lr_recall, lr_precision, marker='.', label='Logistic Regression (Ridge)')\n",
    "pyplot.plot(rf_recall, rf_precision, marker='.', label='Random Forest')\n",
    "pyplot.plot(knn_recall, knn_precision, marker='.', label='K Nearest Neighbors')\n",
    "pyplot.plot(svm_recall, svm_precision, marker='.', label='Support Vector Machine')\n",
    "\n",
    "# axis labels\n",
    "pyplot.xlabel('Recall')\n",
    "pyplot.ylabel('Precision')\n",
    "# show the legend\n",
    "pyplot.legend()\n",
    "# show the plot\n",
    "pyplot.show()"
   ]
  },
  {
   "cell_type": "code",
   "execution_count": 16,
   "metadata": {},
   "outputs": [],
   "source": [
    "F_base = ((5*Recall_base*Precision_base) / ((4*Precision_base) + Recall_base))\n",
    "F_lr = ((5*Recall_lr*Precision_lr) / ((4*Precision_lr) + Recall_lr))\n",
    "F_rf = ((5*Recall_rf*Precision_rf) / ((4*Precision_rf) + Recall_rf))\n",
    "F_svm = ((5*Recall_svm*Precision_svm) / ((4*Precision_svm) + Recall_svm))\n",
    "F_knn = ((5*Recall_knn*Precision_knn) / ((4*Precision_knn) + Recall_knn))\n",
    "\n",
    "base = [Acc_base, ROC_AUC_base, Recall_base, Precision_base, F1_base, F_base]\n",
    "lr = [Acc_lr, ROC_AUC_lr, Recall_lr, Precision_lr, F1_lr, F_lr]\n",
    "rf = [Acc_rf, ROC_AUC_rf, Recall_rf, Precision_rf, F1_rf, F_rf]\n",
    "svm = [Acc_svm, ROC_AUC_svm, Recall_svm, Precision_svm, F1_svm, F_svm]\n",
    "knn = [Acc_knn, ROC_AUC_knn, Recall_knn, Precision_knn, F1_knn, F_knn]"
   ]
  },
  {
   "cell_type": "code",
   "execution_count": 17,
   "metadata": {},
   "outputs": [],
   "source": [
    "metrics = list(zip(base, rf, knn, svm, lr)) "
   ]
  },
  {
   "cell_type": "code",
   "execution_count": 18,
   "metadata": {},
   "outputs": [],
   "source": [
    "met = map(list, zip(*metrics))\n",
    "df = pd.DataFrame(met, \n",
    "                  columns = ['Accuracy', 'AUC (ROC)', 'Recall', 'Precision', 'F1 Score', 'F Score'],\n",
    "                 index = ['Baseline', 'Random Forest', 'K Nearest Neighbors', 'Support Vector Machine', 'Logistic Regression' ])  "
   ]
  },
  {
   "cell_type": "code",
   "execution_count": 19,
   "metadata": {},
   "outputs": [
    {
     "data": {
      "text/html": [
       "<div>\n",
       "<style scoped>\n",
       "    .dataframe tbody tr th:only-of-type {\n",
       "        vertical-align: middle;\n",
       "    }\n",
       "\n",
       "    .dataframe tbody tr th {\n",
       "        vertical-align: top;\n",
       "    }\n",
       "\n",
       "    .dataframe thead th {\n",
       "        text-align: right;\n",
       "    }\n",
       "</style>\n",
       "<table border=\"1\" class=\"dataframe\">\n",
       "  <thead>\n",
       "    <tr style=\"text-align: right;\">\n",
       "      <th></th>\n",
       "      <th>Accuracy</th>\n",
       "      <th>AUC (ROC)</th>\n",
       "      <th>Recall</th>\n",
       "      <th>Precision</th>\n",
       "      <th>F1 Score</th>\n",
       "      <th>F Score</th>\n",
       "    </tr>\n",
       "  </thead>\n",
       "  <tbody>\n",
       "    <tr>\n",
       "      <th>Baseline</th>\n",
       "      <td>0.94050</td>\n",
       "      <td>0.505904</td>\n",
       "      <td>0.012605</td>\n",
       "      <td>0.500000</td>\n",
       "      <td>0.024590</td>\n",
       "      <td>0.015658</td>\n",
       "    </tr>\n",
       "    <tr>\n",
       "      <th>Random Forest</th>\n",
       "      <td>0.92950</td>\n",
       "      <td>0.529575</td>\n",
       "      <td>0.075630</td>\n",
       "      <td>0.225000</td>\n",
       "      <td>0.113208</td>\n",
       "      <td>0.087209</td>\n",
       "    </tr>\n",
       "    <tr>\n",
       "      <th>K Nearest Neighbors</th>\n",
       "      <td>0.85925</td>\n",
       "      <td>0.559137</td>\n",
       "      <td>0.218487</td>\n",
       "      <td>0.121212</td>\n",
       "      <td>0.155922</td>\n",
       "      <td>0.188269</td>\n",
       "    </tr>\n",
       "    <tr>\n",
       "      <th>Support Vector Machine</th>\n",
       "      <td>0.63525</td>\n",
       "      <td>0.654556</td>\n",
       "      <td>0.676471</td>\n",
       "      <td>0.104342</td>\n",
       "      <td>0.180797</td>\n",
       "      <td>0.322645</td>\n",
       "    </tr>\n",
       "    <tr>\n",
       "      <th>Logistic Regression</th>\n",
       "      <td>0.80800</td>\n",
       "      <td>0.661775</td>\n",
       "      <td>0.495798</td>\n",
       "      <td>0.154047</td>\n",
       "      <td>0.235060</td>\n",
       "      <td>0.343423</td>\n",
       "    </tr>\n",
       "  </tbody>\n",
       "</table>\n",
       "</div>"
      ],
      "text/plain": [
       "                        Accuracy  AUC (ROC)    Recall  Precision  F1 Score  \\\n",
       "Baseline                 0.94050   0.505904  0.012605   0.500000  0.024590   \n",
       "Random Forest            0.92950   0.529575  0.075630   0.225000  0.113208   \n",
       "K Nearest Neighbors      0.85925   0.559137  0.218487   0.121212  0.155922   \n",
       "Support Vector Machine   0.63525   0.654556  0.676471   0.104342  0.180797   \n",
       "Logistic Regression      0.80800   0.661775  0.495798   0.154047  0.235060   \n",
       "\n",
       "                         F Score  \n",
       "Baseline                0.015658  \n",
       "Random Forest           0.087209  \n",
       "K Nearest Neighbors     0.188269  \n",
       "Support Vector Machine  0.322645  \n",
       "Logistic Regression     0.343423  "
      ]
     },
     "execution_count": 19,
     "metadata": {},
     "output_type": "execute_result"
    }
   ],
   "source": [
    "df"
   ]
  }
 ],
 "metadata": {
  "kernelspec": {
   "display_name": "Python 3",
   "language": "python",
   "name": "python3"
  },
  "language_info": {
   "codemirror_mode": {
    "name": "ipython",
    "version": 3
   },
   "file_extension": ".py",
   "mimetype": "text/x-python",
   "name": "python",
   "nbconvert_exporter": "python",
   "pygments_lexer": "ipython3",
   "version": "3.8.2"
  }
 },
 "nbformat": 4,
 "nbformat_minor": 4
}
