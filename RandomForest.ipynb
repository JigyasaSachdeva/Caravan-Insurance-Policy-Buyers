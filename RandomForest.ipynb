{
 "cells": [
  {
   "cell_type": "markdown",
   "metadata": {},
   "source": [
    "## Random Forest"
   ]
  },
  {
   "cell_type": "code",
   "execution_count": 3,
   "metadata": {},
   "outputs": [],
   "source": [
    "#Reading data\n",
    "import pandas as pd\n",
    "train = pd.read_csv('/Users/jigyasasachdeva/Desktop/Data/train.csv', index_col = 0)\n",
    "X = train.loc[:, train.columns != 'CARAVAN']\n",
    "y = train['CARAVAN'].astype('category')"
   ]
  },
  {
   "cell_type": "markdown",
   "metadata": {},
   "source": [
    "### Random Search CV"
   ]
  },
  {
   "cell_type": "code",
   "execution_count": 8,
   "metadata": {},
   "outputs": [],
   "source": [
    "import numpy as np\n",
    "from pprint import pprint\n",
    "\n",
    "#For maximum depth \n",
    "d_max = [int(a) for a in np.linspace(10, 110, num = 11)]\n",
    "d_max.append(None)\n",
    "\n",
    "#Making a random grid for implementing random search CV\n",
    "rg = {\n",
    "    'n_estimators' : [int(b) for b in np.linspace(start = 10, stop = 510, num = 50)],\n",
    "    'max_features' : ['auto', 'sqrt'],\n",
    "    'max_depth' : max_depth,\n",
    "    'min_samples_split' : [2, 5, 10],\n",
    "    'min_samples_leaf' : [1, 2, 4],\n",
    "    'bootstrap' : [True, False]\n",
    "}"
   ]
  },
  {
   "cell_type": "code",
   "execution_count": 10,
   "metadata": {},
   "outputs": [
    {
     "name": "stdout",
     "output_type": "stream",
     "text": [
      "{'bootstrap': [True, False],\n",
      " 'max_depth': [10, 20, 30, 40, 50, 60, 70, 80, 90, 100, 110, None],\n",
      " 'max_features': ['auto', 'sqrt'],\n",
      " 'min_samples_leaf': [1, 2, 4],\n",
      " 'min_samples_split': [2, 5, 10],\n",
      " 'n_estimators': [10,\n",
      "                  36,\n",
      "                  62,\n",
      "                  88,\n",
      "                  115,\n",
      "                  141,\n",
      "                  167,\n",
      "                  194,\n",
      "                  220,\n",
      "                  246,\n",
      "                  273,\n",
      "                  299,\n",
      "                  325,\n",
      "                  352,\n",
      "                  378,\n",
      "                  404,\n",
      "                  431,\n",
      "                  457,\n",
      "                  483,\n",
      "                  510]}\n"
     ]
    }
   ],
   "source": [
    "pprint(rg)"
   ]
  },
  {
   "cell_type": "code",
   "execution_count": 35,
   "metadata": {},
   "outputs": [
    {
     "name": "stdout",
     "output_type": "stream",
     "text": [
      "Fitting 3 folds for each of 100 candidates, totalling 300 fits\n"
     ]
    },
    {
     "name": "stderr",
     "output_type": "stream",
     "text": [
      "[Parallel(n_jobs=-1)]: Using backend LokyBackend with 8 concurrent workers.\n",
      "[Parallel(n_jobs=-1)]: Done  25 tasks      | elapsed:   12.1s\n",
      "[Parallel(n_jobs=-1)]: Done 146 tasks      | elapsed:   52.5s\n",
      "[Parallel(n_jobs=-1)]: Done 300 out of 300 | elapsed:  1.8min finished\n"
     ]
    },
    {
     "data": {
      "text/plain": [
       "RandomizedSearchCV(cv=3, estimator=RandomForestClassifier(), n_iter=100,\n",
       "                   n_jobs=-1,\n",
       "                   param_distributions={'bootstrap': [True, False],\n",
       "                                        'max_depth': [10, 20, 30, 40, 50, 60,\n",
       "                                                      70, 80, 90, 100, 110,\n",
       "                                                      None],\n",
       "                                        'max_features': ['auto', 'sqrt'],\n",
       "                                        'min_samples_leaf': [1, 2, 4],\n",
       "                                        'min_samples_split': [2, 5, 10],\n",
       "                                        'n_estimators': [10, 36, 62, 88, 115,\n",
       "                                                         141, 167, 194, 220,\n",
       "                                                         246, 273, 299, 325,\n",
       "                                                         352, 378, 404, 431,\n",
       "                                                         457, 483, 510]},\n",
       "                   random_state=42, verbose=2)"
      ]
     },
     "execution_count": 35,
     "metadata": {},
     "output_type": "execute_result"
    }
   ],
   "source": [
    "from sklearn.model_selection import RandomizedSearchCV\n",
    "from sklearn.ensemble import RandomForestClassifier\n",
    "rf_model = RandomForestClassifier(random_state = 79)\n",
    "\n",
    "rf_model = RandomForestClassifier()\n",
    "# Random search of parameters, using 3 fold cross validation, \n",
    "# search across 100 different combinations, and use all available cores\n",
    "rf_model_randomcv = RandomizedSearchCV(estimator = rf_model, \n",
    "                                       param_distributions = rg, #passing the random grid\n",
    "                                       n_iter = 100, #100 iterations\n",
    "                                       cv = 3, #3 cross validations\n",
    "                                       verbose=2, \n",
    "                                       random_state= 79, \n",
    "                                       n_jobs = -1) \n",
    "# Fit the random search model\n",
    "rf_model_randomcv.fit(X, y)"
   ]
  },
  {
   "cell_type": "code",
   "execution_count": 36,
   "metadata": {},
   "outputs": [
    {
     "data": {
      "text/plain": [
       "{'n_estimators': 62,\n",
       " 'min_samples_split': 10,\n",
       " 'min_samples_leaf': 1,\n",
       " 'max_features': 'sqrt',\n",
       " 'max_depth': 10,\n",
       " 'bootstrap': True}"
      ]
     },
     "execution_count": 36,
     "metadata": {},
     "output_type": "execute_result"
    }
   ],
   "source": [
    "#Printing the best parameters obtained\n",
    "rf_model_randomcv.best_params_"
   ]
  },
  {
   "cell_type": "code",
   "execution_count": 37,
   "metadata": {},
   "outputs": [],
   "source": [
    "from sklearn import metrics\n",
    "from sklearn.metrics import classification_report, confusion_matrix\n",
    "\n",
    "#Predicting on train data using the best parameters obtained from random search CV\n",
    "model = RandomForestClassifier(n_estimators= 483, min_samples_split= 2, min_samples_leaf= 4, \n",
    "                              max_features= \"sqrt\", max_depth= 10, bootstrap= True)\n",
    "model.fit(X, y)\n",
    "y_pred = model.predict(X)"
   ]
  },
  {
   "cell_type": "code",
   "execution_count": 40,
   "metadata": {},
   "outputs": [
    {
     "name": "stdout",
     "output_type": "stream",
     "text": [
      "[[5474    0]\n",
      " [ 347    1]]\n"
     ]
    }
   ],
   "source": [
    "metrics.f1_score(y, y_pred)\n",
    "print(confusion_matrix(y, y_pred))\n",
    "#Worse than baseline"
   ]
  },
  {
   "cell_type": "code",
   "execution_count": 5,
   "metadata": {},
   "outputs": [],
   "source": [
    "#Reading test data\n",
    "test = pd.read_csv('/Users/jigyasasachdeva/Desktop/Data/test.csv', index_col = 0)\n",
    "X_test = test.loc[:, test.columns != 'CARAVAN']\n",
    "y_test = test['CARAVAN'].astype('category')"
   ]
  },
  {
   "cell_type": "markdown",
   "metadata": {},
   "source": [
    "### Grid Search CV"
   ]
  },
  {
   "cell_type": "code",
   "execution_count": 45,
   "metadata": {},
   "outputs": [],
   "source": [
    "from sklearn.model_selection import GridSearchCV\n",
    "#Grid for CV using base accuracy score\n",
    "g = {'n_estimators' : [int(x) for x in np.linspace(start = 10, stop = 510, num = 20)],\n",
    "    'max_features' : ['auto', 'sqrt'],\n",
    "    'max_depth' : max_depth,\n",
    "    'min_samples_split' : [2, 5, 10],\n",
    "    'min_samples_leaf' : [1, 2, 4],\n",
    "    'bootstrap' : [True, False]\n",
    "}\n",
    "\n",
    "model = RandomForestClassifier()\n",
    "# Instantiate the grid search model\n",
    "gscv_model = GridSearchCV(estimator = model, param_grid = g, \n",
    "                    cv = 3, n_jobs = -1, verbose = 2)"
   ]
  },
  {
   "cell_type": "code",
   "execution_count": 46,
   "metadata": {},
   "outputs": [
    {
     "name": "stdout",
     "output_type": "stream",
     "text": [
      "Fitting 3 folds for each of 8640 candidates, totalling 25920 fits\n"
     ]
    },
    {
     "name": "stderr",
     "output_type": "stream",
     "text": [
      "[Parallel(n_jobs=-1)]: Using backend LokyBackend with 8 concurrent workers.\n",
      "[Parallel(n_jobs=-1)]: Done  25 tasks      | elapsed:    5.4s\n",
      "[Parallel(n_jobs=-1)]: Done 146 tasks      | elapsed:   36.1s\n",
      "[Parallel(n_jobs=-1)]: Done 349 tasks      | elapsed:  1.6min\n",
      "[Parallel(n_jobs=-1)]: Done 632 tasks      | elapsed:  2.9min\n",
      "[Parallel(n_jobs=-1)]: Done 997 tasks      | elapsed:  4.7min\n",
      "[Parallel(n_jobs=-1)]: Done 1442 tasks      | elapsed:  7.1min\n",
      "[Parallel(n_jobs=-1)]: Done 1969 tasks      | elapsed: 10.0min\n",
      "[Parallel(n_jobs=-1)]: Done 2576 tasks      | elapsed: 13.4min\n",
      "[Parallel(n_jobs=-1)]: Done 3265 tasks      | elapsed: 17.2min\n",
      "[Parallel(n_jobs=-1)]: Done 4034 tasks      | elapsed: 21.6min\n",
      "[Parallel(n_jobs=-1)]: Done 4885 tasks      | elapsed: 26.3min\n",
      "[Parallel(n_jobs=-1)]: Done 5816 tasks      | elapsed: 31.6min\n",
      "[Parallel(n_jobs=-1)]: Done 6829 tasks      | elapsed: 37.5min\n",
      "[Parallel(n_jobs=-1)]: Done 7922 tasks      | elapsed: 43.5min\n",
      "[Parallel(n_jobs=-1)]: Done 9097 tasks      | elapsed: 49.8min\n",
      "[Parallel(n_jobs=-1)]: Done 10352 tasks      | elapsed: 56.4min\n",
      "[Parallel(n_jobs=-1)]: Done 11689 tasks      | elapsed: 63.3min\n",
      "[Parallel(n_jobs=-1)]: Done 13106 tasks      | elapsed: 70.5min\n",
      "[Parallel(n_jobs=-1)]: Done 14605 tasks      | elapsed: 78.8min\n",
      "[Parallel(n_jobs=-1)]: Done 16184 tasks      | elapsed: 88.7min\n",
      "[Parallel(n_jobs=-1)]: Done 17845 tasks      | elapsed: 98.8min\n",
      "[Parallel(n_jobs=-1)]: Done 19586 tasks      | elapsed: 109.5min\n",
      "[Parallel(n_jobs=-1)]: Done 21409 tasks      | elapsed: 121.1min\n",
      "[Parallel(n_jobs=-1)]: Done 23312 tasks      | elapsed: 133.3min\n",
      "[Parallel(n_jobs=-1)]: Done 25297 tasks      | elapsed: 145.6min\n",
      "[Parallel(n_jobs=-1)]: Done 25920 out of 25920 | elapsed: 149.5min finished\n"
     ]
    },
    {
     "data": {
      "text/plain": [
       "GridSearchCV(cv=3, estimator=RandomForestClassifier(), n_jobs=-1,\n",
       "             param_grid={'bootstrap': [True, False],\n",
       "                         'max_depth': [10, 20, 30, 40, 50, 60, 70, 80, 90, 100,\n",
       "                                       110, None],\n",
       "                         'max_features': ['auto', 'sqrt'],\n",
       "                         'min_samples_leaf': [1, 2, 4],\n",
       "                         'min_samples_split': [2, 5, 10],\n",
       "                         'n_estimators': [10, 36, 62, 88, 115, 141, 167, 194,\n",
       "                                          220, 246, 273, 299, 325, 352, 378,\n",
       "                                          404, 431, 457, 483, 510]},\n",
       "             verbose=2)"
      ]
     },
     "execution_count": 46,
     "metadata": {},
     "output_type": "execute_result"
    }
   ],
   "source": [
    "#Fitting the model on train data\n",
    "gscv_model.fit(X, y)"
   ]
  },
  {
   "cell_type": "code",
   "execution_count": 47,
   "metadata": {},
   "outputs": [
    {
     "data": {
      "text/plain": [
       "{'bootstrap': True,\n",
       " 'max_depth': 10,\n",
       " 'max_features': 'auto',\n",
       " 'min_samples_leaf': 1,\n",
       " 'min_samples_split': 10,\n",
       " 'n_estimators': 10}"
      ]
     },
     "execution_count": 47,
     "metadata": {},
     "output_type": "execute_result"
    }
   ],
   "source": [
    "#Displaying best parameters\n",
    "gscv_model.best_params_"
   ]
  },
  {
   "cell_type": "code",
   "execution_count": 49,
   "metadata": {},
   "outputs": [
    {
     "name": "stdout",
     "output_type": "stream",
     "text": [
      "[[5471    3]\n",
      " [ 328   20]]\n"
     ]
    }
   ],
   "source": [
    "from sklearn import metrics\n",
    "from sklearn.metrics import classification_report, confusion_matrix\n",
    "\n",
    "#Using best parameters and fitting the model\n",
    "model = RandomForestClassifier(n_estimators= 10, min_samples_split= 10, min_samples_leaf= 1, \n",
    "                              max_features= \"sqrt\", max_depth= 10, bootstrap= True)\n",
    "model.fit(X, y)\n",
    "y_pred = model.predict(X)\n",
    "metrics.f1_score(y, y_pred)\n",
    "print(confusion_matrix(y, y_pred))"
   ]
  },
  {
   "cell_type": "code",
   "execution_count": 56,
   "metadata": {},
   "outputs": [
    {
     "data": {
      "text/plain": [
       "[10, 65, 121, 176, 232, 287, 343, 398, 454, 510]"
      ]
     },
     "execution_count": 56,
     "metadata": {},
     "output_type": "execute_result"
    }
   ],
   "source": [
    "#New model to optimize F score\n",
    "max_depth = [int(x) for x in np.linspace(10, 90, num = 10)]\n",
    "max_depth.append(None)\n",
    "max_depth"
   ]
  },
  {
   "cell_type": "code",
   "execution_count": 57,
   "metadata": {},
   "outputs": [
    {
     "name": "stdout",
     "output_type": "stream",
     "text": [
      "Fitting 3 folds for each of 990 candidates, totalling 2970 fits\n"
     ]
    },
    {
     "name": "stderr",
     "output_type": "stream",
     "text": [
      "[Parallel(n_jobs=-1)]: Using backend LokyBackend with 8 concurrent workers.\n",
      "[Parallel(n_jobs=-1)]: Done  25 tasks      | elapsed:    6.7s\n",
      "[Parallel(n_jobs=-1)]: Done 146 tasks      | elapsed:   35.7s\n",
      "[Parallel(n_jobs=-1)]: Done 349 tasks      | elapsed:  1.5min\n",
      "[Parallel(n_jobs=-1)]: Done 632 tasks      | elapsed:  2.8min\n",
      "[Parallel(n_jobs=-1)]: Done 997 tasks      | elapsed:  4.5min\n",
      "[Parallel(n_jobs=-1)]: Done 1442 tasks      | elapsed:  6.7min\n",
      "[Parallel(n_jobs=-1)]: Done 1969 tasks      | elapsed:  9.3min\n",
      "[Parallel(n_jobs=-1)]: Done 2576 tasks      | elapsed: 12.3min\n",
      "[Parallel(n_jobs=-1)]: Done 2970 out of 2970 | elapsed: 14.3min finished\n"
     ]
    },
    {
     "name": "stdout",
     "output_type": "stream",
     "text": [
      "Best score: 0.10384615384615385 with param: {'bootstrap': True, 'max_depth': 36, 'max_features': 'sqrt', 'min_samples_leaf': 1, 'min_samples_split': 2, 'n_estimators': 10}\n"
     ]
    }
   ],
   "source": [
    "### Grid Search using score = f1\n",
    "from sklearn.model_selection import GridSearchCV\n",
    "g = {'n_estimators' : [int(x) for x in np.linspace(start = 10, stop = 510, num = 10)],\n",
    "    'max_features' : ['sqrt'],\n",
    "    'max_depth' : max_depth,\n",
    "    'min_samples_split' : [2, 5, 10],\n",
    "    'min_samples_leaf' : [1, 2, 4],\n",
    "    'bootstrap' : [True]\n",
    "}\n",
    "# Create a based model\n",
    "model_f1 = RandomForestClassifier()\n",
    "# Instantiate the grid search model\n",
    "modelf1_cv = GridSearchCV(estimator = model_f1, param_grid = g, \n",
    "                          cv = 3, n_jobs = -1, verbose = 2, scoring = 'f1')\n",
    "modelf1_cv.fit(X,y)\n",
    "print(f'Best F1 score: {modelf1_cv.best_score_} with parameters: {modelf1_cv.best_params_}')"
   ]
  },
  {
   "cell_type": "code",
   "execution_count": 7,
   "metadata": {},
   "outputs": [
    {
     "name": "stdout",
     "output_type": "stream",
     "text": [
      "Random Forest Confusion Matrix: \n",
      "[[3718   44]\n",
      " [ 223   15]]\n",
      "Random Forest Accuracy: 0.93325\n",
      "Random Forest Area Under Curve: 0.5256646518256425\n",
      "Random Forest Recall: 0.06302521008403361\n",
      "Random Forest Precision score: 0.2542372881355932\n",
      "Random Forest F1 score: 0.10101010101010101\n"
     ]
    }
   ],
   "source": [
    "from sklearn import metrics\n",
    "from sklearn.metrics import accuracy_score, confusion_matrix,roc_curve, roc_auc_score, precision_score, recall_score, precision_recall_curve\n",
    "from sklearn.metrics import classification_report, confusion_matrix\n",
    "from sklearn.ensemble import RandomForestClassifier\n",
    "\n",
    "model_f1 = RandomForestClassifier(n_estimators= 10, min_samples_split= 2, min_samples_leaf= 1, \n",
    "                              max_features= \"sqrt\", max_depth= 36, bootstrap= True)\n",
    "model_f1.fit(X, y)\n",
    "y_pred = model.predict(X_test)\n",
    "\n",
    "print(f'Random Forest Confusion Matrix: \\n{confusion_matrix(y_test, y_pred)}')\n",
    "print(f'Random Forest Accuracy: {accuracy_score(y_test,y_pred)}')\n",
    "print(f'Random Forest Area Under Curve: {roc_auc_score(y_test, y_pred)}') \n",
    "print(f'Random Forest Recall: {recall_score(y_test,y_pred)}')\n",
    "print(f'Random Forest Precision score: {precision_score(y_test,y_pred)}')\n",
    "print(f'Random Forest F1 score: {metrics.f1_score(y_test,y_pred)}')"
   ]
  },
  {
   "cell_type": "code",
   "execution_count": 63,
   "metadata": {},
   "outputs": [
    {
     "name": "stdout",
     "output_type": "stream",
     "text": [
      "Fitting 3 folds for each of 990 candidates, totalling 2970 fits\n"
     ]
    },
    {
     "name": "stderr",
     "output_type": "stream",
     "text": [
      "[Parallel(n_jobs=-1)]: Using backend LokyBackend with 8 concurrent workers.\n",
      "[Parallel(n_jobs=-1)]: Done  25 tasks      | elapsed:   18.7s\n",
      "[Parallel(n_jobs=-1)]: Done 146 tasks      | elapsed:  1.9min\n",
      "[Parallel(n_jobs=-1)]: Done 349 tasks      | elapsed:  5.1min\n",
      "[Parallel(n_jobs=-1)]: Done 632 tasks      | elapsed: 10.1min\n",
      "[Parallel(n_jobs=-1)]: Done 997 tasks      | elapsed: 16.7min\n",
      "[Parallel(n_jobs=-1)]: Done 1442 tasks      | elapsed: 24.8min\n",
      "[Parallel(n_jobs=-1)]: Done 1969 tasks      | elapsed: 34.4min\n",
      "[Parallel(n_jobs=-1)]: Done 2576 tasks      | elapsed: 45.6min\n",
      "[Parallel(n_jobs=-1)]: Done 2970 out of 2970 | elapsed: 53.0min finished\n"
     ]
    },
    {
     "name": "stdout",
     "output_type": "stream",
     "text": [
      "Best score: 0.9643397070180489 with param: {'bootstrap': True, 'max_depth': 81, 'max_features': 'sqrt', 'min_samples_leaf': 1, 'min_samples_split': 5, 'n_estimators': 343}\n"
     ]
    }
   ],
   "source": [
    "#Checking the same on SMOTE data\n",
    "smote_data = pd.read_csv('/Users/jigyasasachdeva/Desktop/Data/SMOTE_traindata.csv', index_col = 0)\n",
    "X_smote = smote_data.loc[:, smote_data.columns != 'CARAVAN']\n",
    "y_smote = smote_data['CARAVAN'].astype('category')\n",
    "\n",
    "from sklearn.model_selection import GridSearchCV\n",
    "g = {'n_estimators' : [int(x) for x in np.linspace(start = 10, stop = 510, num = 10)],\n",
    "    'max_features' : ['sqrt'],\n",
    "    'max_depth' : max_depth,\n",
    "    'min_samples_split' : [2, 5, 10],\n",
    "    'min_samples_leaf' : [1, 2, 4],\n",
    "    'bootstrap' : [True]\n",
    "}\n",
    "# Create a based model\n",
    "mod = RandomForestClassifier()\n",
    "# Instantiate the grid search model\n",
    "mod_gs = GridSearchCV(estimator = mod, param_grid = g, \n",
    "                          cv = 3, n_jobs = -1, verbose = 2, scoring = 'f1')\n",
    "mod_gs.fit(X_smote, y_smote)\n",
    "print(f'Best F1 score: {mod_gs.best_score_} parameters: {mod_gs.best_params_}')"
   ]
  },
  {
   "cell_type": "code",
   "execution_count": 64,
   "metadata": {},
   "outputs": [
    {
     "name": "stdout",
     "output_type": "stream",
     "text": [
      "Accuracy Score: 0.9385\n",
      "Confusion Matrix: \n",
      "[[3744   18]\n",
      " [ 228   10]]\n",
      "Area Under Curve: 0.5186160588637369\n",
      "Recall score: 0.04201680672268908\n",
      "F1 score: 0.07518796992481203\n",
      "Precision score: 0.35714285714285715\n"
     ]
    }
   ],
   "source": [
    "from sklearn import metrics\n",
    "from sklearn.metrics import accuracy_score, confusion_matrix,roc_curve, roc_auc_score, precision_score, recall_score, precision_recall_curve\n",
    "from sklearn.metrics import classification_report, confusion_matrix\n",
    "\n",
    "model = RandomForestClassifier(n_estimators= 343, min_samples_split= 5, min_samples_leaf= 1, \n",
    "                              max_features= \"sqrt\", max_depth= 81, bootstrap= True)\n",
    "model.fit(X_smote, y_smote)\n",
    "\n",
    "#prediction on train data\n",
    "y_pred = model.predict(X)\n",
    "\n",
    "print(f'Accuracy Score: {accuracy_score(y,y_pred)}')\n",
    "print(f'Confusion Matrix: \\n{confusion_matrix(y, y_pred)}')\n",
    "print(f'Area Under Curve: {roc_auc_score(y, y_pred)}') \n",
    "print(f'Recall score: {recall_score(y,y_pred)}')\n",
    "print(f'F1 score: {metrics.f1_score(y,y_pred)}')\n",
    "print(f'Precision score: {precision_score(y,y_pred)}')"
   ]
  }
 ],
 "metadata": {
  "kernelspec": {
   "display_name": "Python 3",
   "language": "python",
   "name": "python3"
  },
  "language_info": {
   "codemirror_mode": {
    "name": "ipython",
    "version": 3
   },
   "file_extension": ".py",
   "mimetype": "text/x-python",
   "name": "python",
   "nbconvert_exporter": "python",
   "pygments_lexer": "ipython3",
   "version": "3.8.2"
  }
 },
 "nbformat": 4,
 "nbformat_minor": 4
}
