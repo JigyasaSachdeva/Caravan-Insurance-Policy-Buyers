{
 "cells": [
  {
   "cell_type": "markdown",
   "metadata": {},
   "source": [
    "## K- Nearest Neighbors"
   ]
  },
  {
   "cell_type": "code",
   "execution_count": 1,
   "metadata": {},
   "outputs": [
    {
     "data": {
      "text/html": [
       "<div>\n",
       "<style scoped>\n",
       "    .dataframe tbody tr th:only-of-type {\n",
       "        vertical-align: middle;\n",
       "    }\n",
       "\n",
       "    .dataframe tbody tr th {\n",
       "        vertical-align: top;\n",
       "    }\n",
       "\n",
       "    .dataframe thead th {\n",
       "        text-align: right;\n",
       "    }\n",
       "</style>\n",
       "<table border=\"1\" class=\"dataframe\">\n",
       "  <thead>\n",
       "    <tr style=\"text-align: right;\">\n",
       "      <th></th>\n",
       "      <th>AWAPART</th>\n",
       "      <th>AWABEDR</th>\n",
       "      <th>AWALAND</th>\n",
       "      <th>APERSAUT</th>\n",
       "      <th>ABESAUT</th>\n",
       "      <th>AMOTSCO</th>\n",
       "      <th>AVRAAUT</th>\n",
       "      <th>AAANHANG</th>\n",
       "      <th>ATRACTOR</th>\n",
       "      <th>AWERKT</th>\n",
       "      <th>...</th>\n",
       "      <th>PPERSONG</th>\n",
       "      <th>PGEZONG</th>\n",
       "      <th>PWAOREG</th>\n",
       "      <th>PBRAND</th>\n",
       "      <th>PZEILPL</th>\n",
       "      <th>PPLEZIER</th>\n",
       "      <th>PFIETS</th>\n",
       "      <th>PINBOED</th>\n",
       "      <th>PBYSTAND</th>\n",
       "      <th>CARAVAN</th>\n",
       "    </tr>\n",
       "  </thead>\n",
       "  <tbody>\n",
       "    <tr>\n",
       "      <th>1</th>\n",
       "      <td>1</td>\n",
       "      <td>1</td>\n",
       "      <td>1</td>\n",
       "      <td>2</td>\n",
       "      <td>1</td>\n",
       "      <td>1</td>\n",
       "      <td>1</td>\n",
       "      <td>1</td>\n",
       "      <td>1</td>\n",
       "      <td>1</td>\n",
       "      <td>...</td>\n",
       "      <td>1</td>\n",
       "      <td>1</td>\n",
       "      <td>1</td>\n",
       "      <td>6</td>\n",
       "      <td>1</td>\n",
       "      <td>1</td>\n",
       "      <td>1</td>\n",
       "      <td>1</td>\n",
       "      <td>1</td>\n",
       "      <td>0</td>\n",
       "    </tr>\n",
       "    <tr>\n",
       "      <th>2</th>\n",
       "      <td>3</td>\n",
       "      <td>1</td>\n",
       "      <td>1</td>\n",
       "      <td>1</td>\n",
       "      <td>1</td>\n",
       "      <td>1</td>\n",
       "      <td>1</td>\n",
       "      <td>1</td>\n",
       "      <td>1</td>\n",
       "      <td>1</td>\n",
       "      <td>...</td>\n",
       "      <td>1</td>\n",
       "      <td>1</td>\n",
       "      <td>1</td>\n",
       "      <td>3</td>\n",
       "      <td>1</td>\n",
       "      <td>1</td>\n",
       "      <td>1</td>\n",
       "      <td>1</td>\n",
       "      <td>1</td>\n",
       "      <td>0</td>\n",
       "    </tr>\n",
       "    <tr>\n",
       "      <th>3</th>\n",
       "      <td>2</td>\n",
       "      <td>1</td>\n",
       "      <td>1</td>\n",
       "      <td>2</td>\n",
       "      <td>1</td>\n",
       "      <td>1</td>\n",
       "      <td>1</td>\n",
       "      <td>1</td>\n",
       "      <td>1</td>\n",
       "      <td>1</td>\n",
       "      <td>...</td>\n",
       "      <td>1</td>\n",
       "      <td>1</td>\n",
       "      <td>1</td>\n",
       "      <td>3</td>\n",
       "      <td>1</td>\n",
       "      <td>1</td>\n",
       "      <td>1</td>\n",
       "      <td>1</td>\n",
       "      <td>1</td>\n",
       "      <td>0</td>\n",
       "    </tr>\n",
       "    <tr>\n",
       "      <th>4</th>\n",
       "      <td>1</td>\n",
       "      <td>1</td>\n",
       "      <td>1</td>\n",
       "      <td>2</td>\n",
       "      <td>1</td>\n",
       "      <td>1</td>\n",
       "      <td>1</td>\n",
       "      <td>1</td>\n",
       "      <td>1</td>\n",
       "      <td>1</td>\n",
       "      <td>...</td>\n",
       "      <td>1</td>\n",
       "      <td>1</td>\n",
       "      <td>1</td>\n",
       "      <td>3</td>\n",
       "      <td>1</td>\n",
       "      <td>1</td>\n",
       "      <td>1</td>\n",
       "      <td>1</td>\n",
       "      <td>1</td>\n",
       "      <td>0</td>\n",
       "    </tr>\n",
       "    <tr>\n",
       "      <th>5</th>\n",
       "      <td>1</td>\n",
       "      <td>1</td>\n",
       "      <td>1</td>\n",
       "      <td>1</td>\n",
       "      <td>1</td>\n",
       "      <td>1</td>\n",
       "      <td>1</td>\n",
       "      <td>1</td>\n",
       "      <td>1</td>\n",
       "      <td>1</td>\n",
       "      <td>...</td>\n",
       "      <td>1</td>\n",
       "      <td>1</td>\n",
       "      <td>1</td>\n",
       "      <td>7</td>\n",
       "      <td>1</td>\n",
       "      <td>1</td>\n",
       "      <td>1</td>\n",
       "      <td>1</td>\n",
       "      <td>1</td>\n",
       "      <td>0</td>\n",
       "    </tr>\n",
       "  </tbody>\n",
       "</table>\n",
       "<p>5 rows × 86 columns</p>\n",
       "</div>"
      ],
      "text/plain": [
       "   AWAPART  AWABEDR  AWALAND  APERSAUT  ABESAUT  AMOTSCO  AVRAAUT  AAANHANG  \\\n",
       "1        1        1        1         2        1        1        1         1   \n",
       "2        3        1        1         1        1        1        1         1   \n",
       "3        2        1        1         2        1        1        1         1   \n",
       "4        1        1        1         2        1        1        1         1   \n",
       "5        1        1        1         1        1        1        1         1   \n",
       "\n",
       "   ATRACTOR  AWERKT  ...  PPERSONG  PGEZONG  PWAOREG  PBRAND  PZEILPL  \\\n",
       "1         1       1  ...         1        1        1       6        1   \n",
       "2         1       1  ...         1        1        1       3        1   \n",
       "3         1       1  ...         1        1        1       3        1   \n",
       "4         1       1  ...         1        1        1       3        1   \n",
       "5         1       1  ...         1        1        1       7        1   \n",
       "\n",
       "   PPLEZIER  PFIETS  PINBOED  PBYSTAND  CARAVAN  \n",
       "1         1       1        1         1        0  \n",
       "2         1       1        1         1        0  \n",
       "3         1       1        1         1        0  \n",
       "4         1       1        1         1        0  \n",
       "5         1       1        1         1        0  \n",
       "\n",
       "[5 rows x 86 columns]"
      ]
     },
     "execution_count": 1,
     "metadata": {},
     "output_type": "execute_result"
    }
   ],
   "source": [
    "#Reading train data\n",
    "import pandas as pd\n",
    "train = pd.read_csv('/Users/jigyasasachdeva/Desktop/Data/train.csv', index_col = 0)\n",
    "train.head()"
   ]
  },
  {
   "cell_type": "code",
   "execution_count": 2,
   "metadata": {},
   "outputs": [
    {
     "data": {
      "text/plain": [
       "1       0\n",
       "2       0\n",
       "3       0\n",
       "4       0\n",
       "5       0\n",
       "       ..\n",
       "5818    0\n",
       "5819    0\n",
       "5820    1\n",
       "5821    0\n",
       "5822    0\n",
       "Name: CARAVAN, Length: 5822, dtype: category\n",
       "Categories (2, int64): [0, 1]"
      ]
     },
     "execution_count": 2,
     "metadata": {},
     "output_type": "execute_result"
    }
   ],
   "source": [
    "#Train data being split in X1 and Y1\n",
    "X1 = train.loc[:, train.columns != 'CARAVAN']\n",
    "y1 = train['CARAVAN'].astype('category')\n",
    "y1"
   ]
  },
  {
   "cell_type": "code",
   "execution_count": 3,
   "metadata": {},
   "outputs": [
    {
     "data": {
      "text/plain": [
       "5823    0\n",
       "5824    1\n",
       "5825    0\n",
       "5826    0\n",
       "5827    0\n",
       "       ..\n",
       "9818    0\n",
       "9819    1\n",
       "9820    0\n",
       "9821    0\n",
       "9822    0\n",
       "Name: CARAVAN, Length: 4000, dtype: category\n",
       "Categories (2, int64): [0, 1]"
      ]
     },
     "execution_count": 3,
     "metadata": {},
     "output_type": "execute_result"
    }
   ],
   "source": [
    "#Reading test data and splitting into X and y\n",
    "test = pd.read_csv('/Users/jigyasasachdeva/Desktop/Data/test.csv', index_col = 0)\n",
    "X = test.loc[:, test.columns != 'CARAVAN']\n",
    "Y = test['CARAVAN'].astype('category')\n",
    "Y"
   ]
  },
  {
   "cell_type": "code",
   "execution_count": 4,
   "metadata": {},
   "outputs": [],
   "source": [
    "#importing train and test split to split the train data into training and validation\n",
    "#this is to perform hold out cross validation\n",
    "from sklearn.model_selection import train_test_split\n",
    "#Splitting data into 80-20 split\n",
    "X_train, X_val, y_train, y_val = train_test_split(X1, y1, test_size=0.20)"
   ]
  },
  {
   "cell_type": "code",
   "execution_count": 7,
   "metadata": {},
   "outputs": [],
   "source": [
    "#Importing KNNclassifier to perform a random classification on train (of X1)\n",
    "from sklearn.neighbors import KNeighborsClassifier\n",
    "knn_classifier = KNeighborsClassifier(n_neighbors=5)\n",
    "knn_classifier.fit(X_train, y_train)\n",
    "y_pred = knn_classifier.predict(X_val)"
   ]
  },
  {
   "cell_type": "code",
   "execution_count": 12,
   "metadata": {},
   "outputs": [
    {
     "name": "stdout",
     "output_type": "stream",
     "text": [
      "Confusion Matrix for KNN: \n",
      "[[1085   11]\n",
      " [  68    1]]\n",
      "Accuracy for KNN: 0.9321888412017167\n",
      "Area Under Curve for KNN: 0.5022281286364118\n",
      "Recall score for KNN: 0.014492753623188406\n",
      "Precision score for KNN: 0.08333333333333333\n",
      "F1 score for KNN: 0.02469135802469136\n"
     ]
    }
   ],
   "source": [
    "#From sklearn importing confusion matrix and other metrics\n",
    "from sklearn.metrics import classification_report, confusion_matrix\n",
    "from sklearn import metrics\n",
    "from sklearn.metrics import accuracy_score, confusion_matrix,roc_curve, roc_auc_score, precision_score, recall_score, precision_recall_curve\n",
    "from sklearn.metrics import f1_score\n",
    "\n",
    "print(f'Confusion Matrix for KNN: \\n{confusion_matrix(y_val, y_pred)}')\n",
    "print(f'Accuracy for KNN: {accuracy_score(y_val,y_pred)}')\n",
    "print(f'Area Under Curve for KNN: {roc_auc_score(y_val, y_pred)}')\n",
    "print(f'Recall score for KNN: {recall_score(y_val,y_pred)}')\n",
    "print(f'Precision score for KNN: {precision_score(y_val,y_pred)}')\n",
    "print(f'F1 score for KNN: {metrics.f1_score(y_val,y_pred)}')\n",
    "#Recall can be seen as a very low value as only 1 TP exists \n",
    "#hence tuning the parameters"
   ]
  },
  {
   "cell_type": "code",
   "execution_count": 13,
   "metadata": {},
   "outputs": [
    {
     "name": "stdout",
     "output_type": "stream",
     "text": [
      "[[1033   63]\n",
      " [  64    5]]\n"
     ]
    }
   ],
   "source": [
    "from sklearn import metrics\n",
    "\n",
    "#Optimal number of neighbors = k\n",
    "optimal_k = 0\n",
    "#Optimal score\n",
    "optimal_score = 0\n",
    "#Number of neighbors\n",
    "sequence =  list(range(1, 39, 2))\n",
    "\n",
    "#Optimizing F1\n",
    "for k in sequence:\n",
    "    #Fitting the model\n",
    "    knn_model = KNeighborsClassifier(n_neighbors=k)\n",
    "    knn_model.fit(X_train, y_train)\n",
    "    #Predicting the model on validation data\n",
    "    knn_y_pred = knn_model.predict(X_val)\n",
    "    \n",
    "    #F1 score \n",
    "    f1 = metrics.f1_score(y_val, knn_y_pred)\n",
    "    #Checking if f1 score is greater than previous optimal score, updating k\n",
    "    if f1 > optimal_score:\n",
    "        optimal_k = k\n",
    "        optimal_score = f1\n",
    "        \n",
    "knn_model = KNeighborsClassifier(n_neighbors=optimal_k)\n",
    "knn_model.fit(X_train, y_train)\n",
    "best_knn_pred = knn_model.predict(X_val)\n",
    "print(confusion_matrix(y_val, best_knn_pred))"
   ]
  },
  {
   "cell_type": "code",
   "execution_count": 14,
   "metadata": {},
   "outputs": [
    {
     "data": {
      "text/plain": [
       "1"
      ]
     },
     "execution_count": 14,
     "metadata": {},
     "output_type": "execute_result"
    }
   ],
   "source": [
    "optimal_k"
   ]
  },
  {
   "cell_type": "code",
   "execution_count": 20,
   "metadata": {},
   "outputs": [
    {
     "name": "stdout",
     "output_type": "stream",
     "text": [
      "[[3396  366]\n",
      " [ 186   52]]\n"
     ]
    },
    {
     "data": {
      "text/plain": [
       "0.15853658536585366"
      ]
     },
     "execution_count": 20,
     "metadata": {},
     "output_type": "execute_result"
    }
   ],
   "source": [
    "from sklearn import metrics\n",
    "#running the best model with optimal k\n",
    "knn_model = KNeighborsClassifier(n_neighbors=1)\n",
    "knn_model.fit(X_train, y_train)\n",
    "#Predicting on test data\n",
    "best_knn_pred = knn_model.predict(X)\n",
    "print(confusion_matrix(Y, best_knn_pred))\n",
    "metrics.f1_score(Y, best_knn_pred)"
   ]
  },
  {
   "cell_type": "markdown",
   "metadata": {},
   "source": [
    "### SMOTE data"
   ]
  },
  {
   "cell_type": "code",
   "execution_count": 16,
   "metadata": {},
   "outputs": [],
   "source": [
    "#Performing the same operations on SMOTE data\n",
    "import pandas as pd\n",
    "smote_data = pd.read_csv('/Users/jigyasasachdeva/Desktop/Data/SMOTE_traindata.csv', index_col = 0)"
   ]
  },
  {
   "cell_type": "code",
   "execution_count": 17,
   "metadata": {},
   "outputs": [
    {
     "data": {
      "text/plain": [
       "3711.0     0\n",
       "1038.0     0\n",
       "2325.0     0\n",
       "2864.0     0\n",
       "4921.0     0\n",
       "          ..\n",
       "5564.0     1\n",
       "55651.0    1\n",
       "55661.0    1\n",
       "55671.0    1\n",
       "55681.0    1\n",
       "Name: CARAVAN, Length: 17052, dtype: category\n",
       "Categories (2, int64): [0, 1]"
      ]
     },
     "execution_count": 17,
     "metadata": {},
     "output_type": "execute_result"
    }
   ],
   "source": [
    "X1 = smote_data.loc[:, smote_data.columns != 'CARAVAN']\n",
    "y1 = smote_data['CARAVAN'].astype('category')\n",
    "y1"
   ]
  },
  {
   "cell_type": "code",
   "execution_count": 18,
   "metadata": {},
   "outputs": [],
   "source": [
    "from sklearn.model_selection import train_test_split\n",
    "X_train, X_val, y_train, y_val = train_test_split(X1, y1, test_size=0.20)"
   ]
  },
  {
   "cell_type": "code",
   "execution_count": 19,
   "metadata": {},
   "outputs": [
    {
     "name": "stdout",
     "output_type": "stream",
     "text": [
      "[[2158   49]\n",
      " [  43 1161]]\n"
     ]
    }
   ],
   "source": [
    "from sklearn import metrics\n",
    "\n",
    "#Optimal number of neighbors = k\n",
    "optimal_k = 0\n",
    "#Optimal score\n",
    "optimal_score = 0\n",
    "#Number of neighbors\n",
    "sequence =  list(range(1, 39, 2))\n",
    "\n",
    "#Optimizing F1\n",
    "for k in sequence:\n",
    "    #Fitting the model\n",
    "    knn_model = KNeighborsClassifier(n_neighbors=k)\n",
    "    knn_model.fit(X_train, y_train)\n",
    "    #Predicting the model on validation data\n",
    "    knn_y_pred = knn_model.predict(X_val)\n",
    "    \n",
    "    #F1 score \n",
    "    f1 = metrics.f1_score(y_val, knn_y_pred)\n",
    "    #Checking if f1 score is greater than previous optimal score, updating k\n",
    "    if f1 > optimal_score:\n",
    "        optimal_k = k\n",
    "        optimal_score = f1\n",
    "        \n",
    "knn_model = KNeighborsClassifier(n_neighbors=optimal_k)\n",
    "knn_model.fit(X_train, y_train)\n",
    "best_knn_pred = knn_model.predict(X_val)\n",
    "print(confusion_matrix(y_val, best_knn_pred))"
   ]
  },
  {
   "cell_type": "code",
   "execution_count": 21,
   "metadata": {},
   "outputs": [
    {
     "data": {
      "text/plain": [
       "1"
      ]
     },
     "execution_count": 21,
     "metadata": {},
     "output_type": "execute_result"
    }
   ],
   "source": [
    "optimal_k"
   ]
  },
  {
   "cell_type": "code",
   "execution_count": 22,
   "metadata": {},
   "outputs": [
    {
     "name": "stdout",
     "output_type": "stream",
     "text": [
      "[[3385  377]\n",
      " [ 186   52]]\n"
     ]
    }
   ],
   "source": [
    "knn_model = KNeighborsClassifier(n_neighbors=1)\n",
    "knn_model.fit(X1, y1)\n",
    "best_knn_pred = knn_model.predict(X)\n",
    "print(confusion_matrix(Y, best_knn_pred))"
   ]
  },
  {
   "cell_type": "code",
   "execution_count": 23,
   "metadata": {},
   "outputs": [
    {
     "data": {
      "text/plain": [
       "0.15592203898050977"
      ]
     },
     "execution_count": 23,
     "metadata": {},
     "output_type": "execute_result"
    }
   ],
   "source": [
    "metrics.f1_score(Y, best_knn_pred)"
   ]
  }
 ],
 "metadata": {
  "kernelspec": {
   "display_name": "Python 3",
   "language": "python",
   "name": "python3"
  },
  "language_info": {
   "codemirror_mode": {
    "name": "ipython",
    "version": 3
   },
   "file_extension": ".py",
   "mimetype": "text/x-python",
   "name": "python",
   "nbconvert_exporter": "python",
   "pygments_lexer": "ipython3",
   "version": "3.8.2"
  }
 },
 "nbformat": 4,
 "nbformat_minor": 4
}
